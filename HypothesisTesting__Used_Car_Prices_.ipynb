{
  "cells": [
    {
      "cell_type": "code",
      "execution_count": 1,
      "id": "2569a469",
      "metadata": {
        "id": "2569a469"
      },
      "outputs": [],
      "source": [
        "import pandas as pd"
      ]
    },
    {
      "cell_type": "code",
      "execution_count": 2,
      "id": "a41ed7ef",
      "metadata": {
        "colab": {
          "base_uri": "https://localhost:8080/",
          "height": 519
        },
        "id": "a41ed7ef",
        "outputId": "a660bd3d-2dc4-4595-b81f-b258b7373f69"
      },
      "outputs": [
        {
          "output_type": "execute_result",
          "data": {
            "text/plain": [
              "            Brand     Price       Body  Mileage  EngineV Engine Type  \\\n",
              "0             BMW    4200.0      sedan      277     2.00      Petrol   \n",
              "1   Mercedes-Benz    7900.0        van      427     2.90      Diesel   \n",
              "2   Mercedes-Benz   13300.0      sedan      358     5.00         Gas   \n",
              "3            Audi   23000.0  crossover      240     4.20      Petrol   \n",
              "4          Toyota   18300.0  crossover      120     2.00      Petrol   \n",
              "5   Mercedes-Benz  199999.0  crossover        0     5.50      Petrol   \n",
              "6             BMW    6100.0      sedan      438     2.00         Gas   \n",
              "7            Audi   14200.0      vagon      200     2.70      Diesel   \n",
              "8         Renault   10799.0      vagon      193     1.50      Diesel   \n",
              "9      Volkswagen    1400.0      other      212     1.80         Gas   \n",
              "10        Renault   11950.0      vagon      177     1.50      Diesel   \n",
              "11        Renault    2500.0      sedan      260     1.79      Petrol   \n",
              "12           Audi    9500.0      vagon      165     2.70         Gas   \n",
              "13     Volkswagen   10500.0      sedan      100     1.80      Petrol   \n",
              "14         Toyota   16000.0  crossover      250     4.70         Gas   \n",
              "\n",
              "   Registration  Year             Model  \n",
              "0           yes  1991               320  \n",
              "1           yes  1999      Sprinter 212  \n",
              "2           yes  2003             S 500  \n",
              "3           yes  2007                Q7  \n",
              "4           yes  2011             Rav 4  \n",
              "5           yes  2016            GLS 63  \n",
              "6           yes  1997               320  \n",
              "7           yes  2006                A6  \n",
              "8           yes  2012            Megane  \n",
              "9            no  1999           Golf IV  \n",
              "10          yes  2011            Megane  \n",
              "11          yes  1994                19  \n",
              "12          yes  2003        A6 Allroad  \n",
              "13          yes  2008         Passat B6  \n",
              "14          yes  2001  Land Cruiser 100  "
            ],
            "text/html": [
              "\n",
              "  <div id=\"df-62173e2b-bf6c-41e8-a55f-6e151c485f2c\">\n",
              "    <div class=\"colab-df-container\">\n",
              "      <div>\n",
              "<style scoped>\n",
              "    .dataframe tbody tr th:only-of-type {\n",
              "        vertical-align: middle;\n",
              "    }\n",
              "\n",
              "    .dataframe tbody tr th {\n",
              "        vertical-align: top;\n",
              "    }\n",
              "\n",
              "    .dataframe thead th {\n",
              "        text-align: right;\n",
              "    }\n",
              "</style>\n",
              "<table border=\"1\" class=\"dataframe\">\n",
              "  <thead>\n",
              "    <tr style=\"text-align: right;\">\n",
              "      <th></th>\n",
              "      <th>Brand</th>\n",
              "      <th>Price</th>\n",
              "      <th>Body</th>\n",
              "      <th>Mileage</th>\n",
              "      <th>EngineV</th>\n",
              "      <th>Engine Type</th>\n",
              "      <th>Registration</th>\n",
              "      <th>Year</th>\n",
              "      <th>Model</th>\n",
              "    </tr>\n",
              "  </thead>\n",
              "  <tbody>\n",
              "    <tr>\n",
              "      <th>0</th>\n",
              "      <td>BMW</td>\n",
              "      <td>4200.0</td>\n",
              "      <td>sedan</td>\n",
              "      <td>277</td>\n",
              "      <td>2.00</td>\n",
              "      <td>Petrol</td>\n",
              "      <td>yes</td>\n",
              "      <td>1991</td>\n",
              "      <td>320</td>\n",
              "    </tr>\n",
              "    <tr>\n",
              "      <th>1</th>\n",
              "      <td>Mercedes-Benz</td>\n",
              "      <td>7900.0</td>\n",
              "      <td>van</td>\n",
              "      <td>427</td>\n",
              "      <td>2.90</td>\n",
              "      <td>Diesel</td>\n",
              "      <td>yes</td>\n",
              "      <td>1999</td>\n",
              "      <td>Sprinter 212</td>\n",
              "    </tr>\n",
              "    <tr>\n",
              "      <th>2</th>\n",
              "      <td>Mercedes-Benz</td>\n",
              "      <td>13300.0</td>\n",
              "      <td>sedan</td>\n",
              "      <td>358</td>\n",
              "      <td>5.00</td>\n",
              "      <td>Gas</td>\n",
              "      <td>yes</td>\n",
              "      <td>2003</td>\n",
              "      <td>S 500</td>\n",
              "    </tr>\n",
              "    <tr>\n",
              "      <th>3</th>\n",
              "      <td>Audi</td>\n",
              "      <td>23000.0</td>\n",
              "      <td>crossover</td>\n",
              "      <td>240</td>\n",
              "      <td>4.20</td>\n",
              "      <td>Petrol</td>\n",
              "      <td>yes</td>\n",
              "      <td>2007</td>\n",
              "      <td>Q7</td>\n",
              "    </tr>\n",
              "    <tr>\n",
              "      <th>4</th>\n",
              "      <td>Toyota</td>\n",
              "      <td>18300.0</td>\n",
              "      <td>crossover</td>\n",
              "      <td>120</td>\n",
              "      <td>2.00</td>\n",
              "      <td>Petrol</td>\n",
              "      <td>yes</td>\n",
              "      <td>2011</td>\n",
              "      <td>Rav 4</td>\n",
              "    </tr>\n",
              "    <tr>\n",
              "      <th>5</th>\n",
              "      <td>Mercedes-Benz</td>\n",
              "      <td>199999.0</td>\n",
              "      <td>crossover</td>\n",
              "      <td>0</td>\n",
              "      <td>5.50</td>\n",
              "      <td>Petrol</td>\n",
              "      <td>yes</td>\n",
              "      <td>2016</td>\n",
              "      <td>GLS 63</td>\n",
              "    </tr>\n",
              "    <tr>\n",
              "      <th>6</th>\n",
              "      <td>BMW</td>\n",
              "      <td>6100.0</td>\n",
              "      <td>sedan</td>\n",
              "      <td>438</td>\n",
              "      <td>2.00</td>\n",
              "      <td>Gas</td>\n",
              "      <td>yes</td>\n",
              "      <td>1997</td>\n",
              "      <td>320</td>\n",
              "    </tr>\n",
              "    <tr>\n",
              "      <th>7</th>\n",
              "      <td>Audi</td>\n",
              "      <td>14200.0</td>\n",
              "      <td>vagon</td>\n",
              "      <td>200</td>\n",
              "      <td>2.70</td>\n",
              "      <td>Diesel</td>\n",
              "      <td>yes</td>\n",
              "      <td>2006</td>\n",
              "      <td>A6</td>\n",
              "    </tr>\n",
              "    <tr>\n",
              "      <th>8</th>\n",
              "      <td>Renault</td>\n",
              "      <td>10799.0</td>\n",
              "      <td>vagon</td>\n",
              "      <td>193</td>\n",
              "      <td>1.50</td>\n",
              "      <td>Diesel</td>\n",
              "      <td>yes</td>\n",
              "      <td>2012</td>\n",
              "      <td>Megane</td>\n",
              "    </tr>\n",
              "    <tr>\n",
              "      <th>9</th>\n",
              "      <td>Volkswagen</td>\n",
              "      <td>1400.0</td>\n",
              "      <td>other</td>\n",
              "      <td>212</td>\n",
              "      <td>1.80</td>\n",
              "      <td>Gas</td>\n",
              "      <td>no</td>\n",
              "      <td>1999</td>\n",
              "      <td>Golf IV</td>\n",
              "    </tr>\n",
              "    <tr>\n",
              "      <th>10</th>\n",
              "      <td>Renault</td>\n",
              "      <td>11950.0</td>\n",
              "      <td>vagon</td>\n",
              "      <td>177</td>\n",
              "      <td>1.50</td>\n",
              "      <td>Diesel</td>\n",
              "      <td>yes</td>\n",
              "      <td>2011</td>\n",
              "      <td>Megane</td>\n",
              "    </tr>\n",
              "    <tr>\n",
              "      <th>11</th>\n",
              "      <td>Renault</td>\n",
              "      <td>2500.0</td>\n",
              "      <td>sedan</td>\n",
              "      <td>260</td>\n",
              "      <td>1.79</td>\n",
              "      <td>Petrol</td>\n",
              "      <td>yes</td>\n",
              "      <td>1994</td>\n",
              "      <td>19</td>\n",
              "    </tr>\n",
              "    <tr>\n",
              "      <th>12</th>\n",
              "      <td>Audi</td>\n",
              "      <td>9500.0</td>\n",
              "      <td>vagon</td>\n",
              "      <td>165</td>\n",
              "      <td>2.70</td>\n",
              "      <td>Gas</td>\n",
              "      <td>yes</td>\n",
              "      <td>2003</td>\n",
              "      <td>A6 Allroad</td>\n",
              "    </tr>\n",
              "    <tr>\n",
              "      <th>13</th>\n",
              "      <td>Volkswagen</td>\n",
              "      <td>10500.0</td>\n",
              "      <td>sedan</td>\n",
              "      <td>100</td>\n",
              "      <td>1.80</td>\n",
              "      <td>Petrol</td>\n",
              "      <td>yes</td>\n",
              "      <td>2008</td>\n",
              "      <td>Passat B6</td>\n",
              "    </tr>\n",
              "    <tr>\n",
              "      <th>14</th>\n",
              "      <td>Toyota</td>\n",
              "      <td>16000.0</td>\n",
              "      <td>crossover</td>\n",
              "      <td>250</td>\n",
              "      <td>4.70</td>\n",
              "      <td>Gas</td>\n",
              "      <td>yes</td>\n",
              "      <td>2001</td>\n",
              "      <td>Land Cruiser 100</td>\n",
              "    </tr>\n",
              "  </tbody>\n",
              "</table>\n",
              "</div>\n",
              "      <button class=\"colab-df-convert\" onclick=\"convertToInteractive('df-62173e2b-bf6c-41e8-a55f-6e151c485f2c')\"\n",
              "              title=\"Convert this dataframe to an interactive table.\"\n",
              "              style=\"display:none;\">\n",
              "        \n",
              "  <svg xmlns=\"http://www.w3.org/2000/svg\" height=\"24px\"viewBox=\"0 0 24 24\"\n",
              "       width=\"24px\">\n",
              "    <path d=\"M0 0h24v24H0V0z\" fill=\"none\"/>\n",
              "    <path d=\"M18.56 5.44l.94 2.06.94-2.06 2.06-.94-2.06-.94-.94-2.06-.94 2.06-2.06.94zm-11 1L8.5 8.5l.94-2.06 2.06-.94-2.06-.94L8.5 2.5l-.94 2.06-2.06.94zm10 10l.94 2.06.94-2.06 2.06-.94-2.06-.94-.94-2.06-.94 2.06-2.06.94z\"/><path d=\"M17.41 7.96l-1.37-1.37c-.4-.4-.92-.59-1.43-.59-.52 0-1.04.2-1.43.59L10.3 9.45l-7.72 7.72c-.78.78-.78 2.05 0 2.83L4 21.41c.39.39.9.59 1.41.59.51 0 1.02-.2 1.41-.59l7.78-7.78 2.81-2.81c.8-.78.8-2.07 0-2.86zM5.41 20L4 18.59l7.72-7.72 1.47 1.35L5.41 20z\"/>\n",
              "  </svg>\n",
              "      </button>\n",
              "      \n",
              "  <style>\n",
              "    .colab-df-container {\n",
              "      display:flex;\n",
              "      flex-wrap:wrap;\n",
              "      gap: 12px;\n",
              "    }\n",
              "\n",
              "    .colab-df-convert {\n",
              "      background-color: #E8F0FE;\n",
              "      border: none;\n",
              "      border-radius: 50%;\n",
              "      cursor: pointer;\n",
              "      display: none;\n",
              "      fill: #1967D2;\n",
              "      height: 32px;\n",
              "      padding: 0 0 0 0;\n",
              "      width: 32px;\n",
              "    }\n",
              "\n",
              "    .colab-df-convert:hover {\n",
              "      background-color: #E2EBFA;\n",
              "      box-shadow: 0px 1px 2px rgba(60, 64, 67, 0.3), 0px 1px 3px 1px rgba(60, 64, 67, 0.15);\n",
              "      fill: #174EA6;\n",
              "    }\n",
              "\n",
              "    [theme=dark] .colab-df-convert {\n",
              "      background-color: #3B4455;\n",
              "      fill: #D2E3FC;\n",
              "    }\n",
              "\n",
              "    [theme=dark] .colab-df-convert:hover {\n",
              "      background-color: #434B5C;\n",
              "      box-shadow: 0px 1px 3px 1px rgba(0, 0, 0, 0.15);\n",
              "      filter: drop-shadow(0px 1px 2px rgba(0, 0, 0, 0.3));\n",
              "      fill: #FFFFFF;\n",
              "    }\n",
              "  </style>\n",
              "\n",
              "      <script>\n",
              "        const buttonEl =\n",
              "          document.querySelector('#df-62173e2b-bf6c-41e8-a55f-6e151c485f2c button.colab-df-convert');\n",
              "        buttonEl.style.display =\n",
              "          google.colab.kernel.accessAllowed ? 'block' : 'none';\n",
              "\n",
              "        async function convertToInteractive(key) {\n",
              "          const element = document.querySelector('#df-62173e2b-bf6c-41e8-a55f-6e151c485f2c');\n",
              "          const dataTable =\n",
              "            await google.colab.kernel.invokeFunction('convertToInteractive',\n",
              "                                                     [key], {});\n",
              "          if (!dataTable) return;\n",
              "\n",
              "          const docLinkHtml = 'Like what you see? Visit the ' +\n",
              "            '<a target=\"_blank\" href=https://colab.research.google.com/notebooks/data_table.ipynb>data table notebook</a>'\n",
              "            + ' to learn more about interactive tables.';\n",
              "          element.innerHTML = '';\n",
              "          dataTable['output_type'] = 'display_data';\n",
              "          await google.colab.output.renderOutput(dataTable, element);\n",
              "          const docLink = document.createElement('div');\n",
              "          docLink.innerHTML = docLinkHtml;\n",
              "          element.appendChild(docLink);\n",
              "        }\n",
              "      </script>\n",
              "    </div>\n",
              "  </div>\n",
              "  "
            ]
          },
          "metadata": {},
          "execution_count": 2
        }
      ],
      "source": [
        "car = pd.read_csv(\"/content/Car_sales_data (3).csv\")\n",
        "car.head(15)"
      ]
    },
    {
      "cell_type": "code",
      "execution_count": 3,
      "id": "b8f6e748",
      "metadata": {
        "colab": {
          "base_uri": "https://localhost:8080/"
        },
        "id": "b8f6e748",
        "outputId": "46d7d07d-045c-4770-9b8a-c216289994a5"
      },
      "outputs": [
        {
          "output_type": "execute_result",
          "data": {
            "text/plain": [
              "Volkswagen       936\n",
              "Mercedes-Benz    921\n",
              "BMW              694\n",
              "Toyota           541\n",
              "Renault          469\n",
              "Audi             457\n",
              "Mitsubishi       327\n",
              "Name: Brand, dtype: int64"
            ]
          },
          "metadata": {},
          "execution_count": 3
        }
      ],
      "source": [
        "car['Brand'].value_counts()"
      ]
    },
    {
      "cell_type": "code",
      "execution_count": 4,
      "id": "a59ab5db",
      "metadata": {
        "colab": {
          "base_uri": "https://localhost:8080/"
        },
        "id": "a59ab5db",
        "outputId": "a7de985b-a1f8-4be7-eb5d-bb057920dc2d"
      },
      "outputs": [
        {
          "output_type": "stream",
          "name": "stdout",
          "text": [
            "<class 'pandas.core.frame.DataFrame'>\n",
            "RangeIndex: 4345 entries, 0 to 4344\n",
            "Data columns (total 9 columns):\n",
            " #   Column        Non-Null Count  Dtype  \n",
            "---  ------        --------------  -----  \n",
            " 0   Brand         4345 non-null   object \n",
            " 1   Price         4173 non-null   float64\n",
            " 2   Body          4345 non-null   object \n",
            " 3   Mileage       4345 non-null   int64  \n",
            " 4   EngineV       4195 non-null   float64\n",
            " 5   Engine Type   4345 non-null   object \n",
            " 6   Registration  4345 non-null   object \n",
            " 7   Year          4345 non-null   int64  \n",
            " 8   Model         4345 non-null   object \n",
            "dtypes: float64(2), int64(2), object(5)\n",
            "memory usage: 305.6+ KB\n"
          ]
        }
      ],
      "source": [
        "car.info()"
      ]
    },
    {
      "cell_type": "code",
      "execution_count": 5,
      "id": "bba0d8c2",
      "metadata": {
        "colab": {
          "base_uri": "https://localhost:8080/"
        },
        "id": "bba0d8c2",
        "outputId": "f447c6c3-9209-40ca-fd0c-3c83de18bf8a"
      },
      "outputs": [
        {
          "output_type": "execute_result",
          "data": {
            "text/plain": [
              "Brand             0\n",
              "Price           172\n",
              "Body              0\n",
              "Mileage           0\n",
              "EngineV         150\n",
              "Engine Type       0\n",
              "Registration      0\n",
              "Year              0\n",
              "Model             0\n",
              "dtype: int64"
            ]
          },
          "metadata": {},
          "execution_count": 5
        }
      ],
      "source": [
        "car.isna().sum()"
      ]
    },
    {
      "cell_type": "code",
      "execution_count": 6,
      "id": "81c78d18",
      "metadata": {
        "id": "81c78d18"
      },
      "outputs": [],
      "source": [
        "car_new = car.dropna()"
      ]
    },
    {
      "cell_type": "code",
      "execution_count": 7,
      "id": "4fd83f8d",
      "metadata": {
        "colab": {
          "base_uri": "https://localhost:8080/"
        },
        "id": "4fd83f8d",
        "outputId": "779e3d5d-2d63-4ab9-d40f-ab2872000722"
      },
      "outputs": [
        {
          "output_type": "execute_result",
          "data": {
            "text/plain": [
              "Brand           0\n",
              "Price           0\n",
              "Body            0\n",
              "Mileage         0\n",
              "EngineV         0\n",
              "Engine Type     0\n",
              "Registration    0\n",
              "Year            0\n",
              "Model           0\n",
              "dtype: int64"
            ]
          },
          "metadata": {},
          "execution_count": 7
        }
      ],
      "source": [
        "car_new.isnull().sum()"
      ]
    },
    {
      "cell_type": "markdown",
      "id": "20396aa6",
      "metadata": {
        "id": "20396aa6"
      },
      "source": [
        "## T-Test\n",
        "### Null Hypothesis : Mean Price is same for \"Crossover\" & \"Van\" Body Types for Used Cars\n",
        "### Alternative Hypothesis : Mean Price is significantly different for \"Crossover\" & \"Van\" Body Types for Used Cars"
      ]
    },
    {
      "cell_type": "code",
      "execution_count": 8,
      "id": "b6659b26",
      "metadata": {
        "colab": {
          "base_uri": "https://localhost:8080/"
        },
        "id": "b6659b26",
        "outputId": "46a70ef8-22a5-4225-bfc4-e81cbf308ab2"
      },
      "outputs": [
        {
          "output_type": "stream",
          "name": "stdout",
          "text": [
            "Ttest_indResult(statistic=17.30054446943425, pvalue=4.2069143970227766e-61)\n",
            "As p value is less than significance level, we can reject Null hypothesis\n"
          ]
        }
      ],
      "source": [
        "df_crossover = car_new[car_new['Body']=='crossover']\n",
        "df_van = car_new[car_new['Body']=='van']\n",
        "# Python program to conduct two-sample t-test\n",
        "# Importing library\n",
        "from statsmodels.stats.weightstats import ttest_ind\n",
        "import numpy as np\n",
        "import scipy.stats as stats\n",
        "\n",
        "\n",
        "#Conducting two-sample ttest\n",
        "result = stats.ttest_ind(a=df_crossover['Price'], b=df_van['Price'], equal_var=True)\n",
        "\n",
        "\n",
        "alpha = 0.05\n",
        "print(result)\n",
        "\n",
        "\n",
        "if result[1] < alpha :\n",
        "    print(\"As p value is less than significance level, we can reject Null hypothesis\")\n",
        "else :\n",
        "    print('As p value is greater than significance level, we fail to reject null hypothesis')\n",
        "\n",
        "\n"
      ]
    },
    {
      "cell_type": "markdown",
      "id": "d5e3c858",
      "metadata": {
        "id": "d5e3c858"
      },
      "source": [
        "The above test implies that there is no significant difference in price for the two body types of used cars \"Crossover\" & \"Van\""
      ]
    },
    {
      "cell_type": "markdown",
      "id": "cac8c56e",
      "metadata": {
        "id": "cac8c56e"
      },
      "source": [
        "## Z-proportion test\n",
        "\n",
        "### Null Hypothesis : The proportions of 'sedan' & 'Crossover' Body Types are same for registered vehicles\n",
        "\n",
        "### Alternate Hypothesis : The proportions of '' Sedan\"& 'Crossover' Body Types are significantly different for registered vehicles"
      ]
    },
    {
      "cell_type": "code",
      "execution_count": 9,
      "id": "5ce8739a",
      "metadata": {
        "colab": {
          "base_uri": "https://localhost:8080/"
        },
        "id": "5ce8739a",
        "outputId": "3b626038-186f-417e-8010-9a4f280369de"
      },
      "outputs": [
        {
          "output_type": "execute_result",
          "data": {
            "text/plain": [
              "yes    3654\n",
              "no      371\n",
              "Name: Registration, dtype: int64"
            ]
          },
          "metadata": {},
          "execution_count": 9
        }
      ],
      "source": [
        "car_new['Registration'].value_counts()"
      ]
    },
    {
      "cell_type": "code",
      "execution_count": 10,
      "id": "c6eb37b5",
      "metadata": {
        "id": "c6eb37b5"
      },
      "outputs": [],
      "source": [
        "from statsmodels.stats.proportion import proportions_ztest\n",
        "\n",
        "count = np.array([5, 12])\n",
        "nobs = np.array([83, 99])\n",
        "stat, pval = proportions_ztest(count, nobs)"
      ]
    },
    {
      "cell_type": "code",
      "execution_count": 11,
      "id": "2bed26c6",
      "metadata": {
        "colab": {
          "base_uri": "https://localhost:8080/"
        },
        "id": "2bed26c6",
        "outputId": "d0f077a3-fa07-499e-c2d7-ff2b5cdb6ee8"
      },
      "outputs": [
        {
          "output_type": "stream",
          "name": "stdout",
          "text": [
            "0.31515219630268837\n",
            "p value is : 1.2985722218755968e-14\n",
            "As p value is less than significance level, we can reject Null hypothesis\n"
          ]
        }
      ],
      "source": [
        "import numpy as np\n",
        "vagon_regis = car_new[(car_new['Body']== 'sedan') & (car_new['Registration']=='yes')]\n",
        "Hatch_regis = car_new[(car_new['Body']== 'crossover') & (car_new['Registration']=='yes')]\n",
        "\n",
        "\n",
        "\n",
        "p1 = len(vagon_regis)/len(car_new[car_new['Registration']=='yes'])\n",
        "\n",
        "p2 = len(Hatch_regis)/len(car_new[car_new['Registration']=='yes'])\n",
        "\n",
        "p=((len(vagon_regis)*p1)+(len(Hatch_regis)*p2))/(len(vagon_regis)+len(Hatch_regis))\n",
        "\n",
        "#P = ((len(car[car['Body']=='vagon'])*p1) + (len(car[car['Body']=='hatch']*p2)))/(len(car[car['Registration']=='yes']))\n",
        "print(p)\n",
        "     \n",
        "Q = 1 - p\n",
        "\n",
        "n1 = len(car_new[car_new['Body']=='sedan'])\n",
        "n2 = len(car_new[car_new['Body']=='crossover'])\n",
        "\n",
        "z = (p1-p2)/np.sqrt(p*Q*((1/n1)+(1/n2)))\n",
        "\n",
        "\n",
        "# importing packages\n",
        "import scipy.stats\n",
        "  \n",
        "# finding p-value\n",
        "p_value = scipy.stats.norm.sf(abs(z))*2\n",
        "print('p value is : ' + str(p_value))\n",
        "\n",
        "#NormalDist().cdf(1.64)   -> pvalue= (1 - NormalDist().cdf(1.64)) for one tailed test & 2*(1 - NormalDist().cdf(1.64))\n",
        "# 0.9494974165258963\n",
        "         \n",
        "\n",
        "alpha = 0.05 #Two tailed test\n",
        "\n",
        "\n",
        "if p_value < alpha :\n",
        "    print(\"As p value is less than significance level, we can reject Null hypothesis\")\n",
        "else :\n",
        "    print('As p value is greater than significance level, we fail to reject null hypothesis')\n",
        "\n",
        "#     0.31395844728054445\n",
        "# p value is : 9.319492122156417e-15\n",
        "# As p value is less than significance level, we can reject Null hypothesis\n"
      ]
    },
    {
      "cell_type": "markdown",
      "id": "3a36ddff",
      "metadata": {
        "id": "3a36ddff"
      },
      "source": [
        "## ANOVA\n",
        "### Null Hypothesis : The distribution of mileage  is similar across Engine Type - Diesel, Petrol and Gas\n",
        "### Alternate Hypothesis : The distribution of mileage  is significantly different across Engine Type - Diesel, Petrol and Gas ¶"
      ]
    },
    {
      "cell_type": "code",
      "execution_count": 12,
      "id": "1ccacf86",
      "metadata": {
        "colab": {
          "base_uri": "https://localhost:8080/"
        },
        "id": "1ccacf86",
        "outputId": "0f9fdff4-295b-404a-b088-1d8aaf7f3dfa"
      },
      "outputs": [
        {
          "output_type": "execute_result",
          "data": {
            "text/plain": [
              "Diesel    1861\n",
              "Petrol    1468\n",
              "Gas        590\n",
              "Other      106\n",
              "Name: Engine Type, dtype: int64"
            ]
          },
          "metadata": {},
          "execution_count": 12
        }
      ],
      "source": [
        "car_new['Engine Type'].value_counts()"
      ]
    },
    {
      "cell_type": "code",
      "execution_count": 13,
      "id": "a9be3f2d",
      "metadata": {
        "id": "a9be3f2d"
      },
      "outputs": [],
      "source": [
        "diesel = car_new.loc[car_new[\"Engine Type\"]=='Diesel'][\"Mileage\"]\n",
        "petrol = car_new.loc[car_new[\"Engine Type\"]=='Petrol'][\"Mileage\"]\n",
        "gas = car_new.loc[car_new[\"Engine Type\"]=='Gas'][\"Mileage\"]\n"
      ]
    },
    {
      "cell_type": "code",
      "execution_count": 14,
      "id": "27787f04",
      "metadata": {
        "colab": {
          "base_uri": "https://localhost:8080/"
        },
        "id": "27787f04",
        "outputId": "b8a61d15-fd6f-4c10-ae08-d8eba080f1dd"
      },
      "outputs": [
        {
          "output_type": "stream",
          "name": "stdout",
          "text": [
            "As p value is less than significance level, we can reject Null hypothesis\n"
          ]
        }
      ],
      "source": [
        "from scipy.stats import f_oneway\n",
        "Anova = f_oneway(diesel, petrol, gas)\n",
        "\n",
        "alpha = 0.05\n",
        "\n",
        "if Anova[1] < alpha :\n",
        "    print(\"As p value is less than significance level, we can reject Null hypothesis\")\n",
        "else :\n",
        "    print('As p value is greater than significance level, we fail to reject null hypothesis')\n",
        "    \n",
        "#As p value is less than significance level, we can reject Null hypothesis"
      ]
    },
    {
      "cell_type": "markdown",
      "id": "d0435a2e",
      "metadata": {
        "id": "d0435a2e"
      },
      "source": [
        "## Chi - Square Test\n",
        "### Null Hypothesis : Brand and Body  are independent\n",
        "### Alternate Hypothesis :  Brand and Body are dependent"
      ]
    },
    {
      "cell_type": "code",
      "execution_count": 15,
      "id": "81f4f337",
      "metadata": {
        "colab": {
          "base_uri": "https://localhost:8080/",
          "height": 300
        },
        "id": "81f4f337",
        "outputId": "c25d4c5a-b0eb-47f4-c4e6-e5dc4da33465"
      },
      "outputs": [
        {
          "output_type": "execute_result",
          "data": {
            "text/plain": [
              "Body           crossover  hatch  other  sedan  vagon  van\n",
              "Brand                                                    \n",
              "Audi                  73     18     31    195    102    1\n",
              "BMW                  173     11     54    361     41    0\n",
              "Mercedes-Benz        140     17    127    356     19  164\n",
              "Mitsubishi           131     18     23    121      8    6\n",
              "Renault               19     40     32     57    105  192\n",
              "Toyota               207     56     37    190     12    8\n",
              "Volkswagen            81    108     90    254     92  255"
            ],
            "text/html": [
              "\n",
              "  <div id=\"df-a4c4c3cf-0cb1-4a1a-acf3-e003b4b405a6\">\n",
              "    <div class=\"colab-df-container\">\n",
              "      <div>\n",
              "<style scoped>\n",
              "    .dataframe tbody tr th:only-of-type {\n",
              "        vertical-align: middle;\n",
              "    }\n",
              "\n",
              "    .dataframe tbody tr th {\n",
              "        vertical-align: top;\n",
              "    }\n",
              "\n",
              "    .dataframe thead th {\n",
              "        text-align: right;\n",
              "    }\n",
              "</style>\n",
              "<table border=\"1\" class=\"dataframe\">\n",
              "  <thead>\n",
              "    <tr style=\"text-align: right;\">\n",
              "      <th>Body</th>\n",
              "      <th>crossover</th>\n",
              "      <th>hatch</th>\n",
              "      <th>other</th>\n",
              "      <th>sedan</th>\n",
              "      <th>vagon</th>\n",
              "      <th>van</th>\n",
              "    </tr>\n",
              "    <tr>\n",
              "      <th>Brand</th>\n",
              "      <th></th>\n",
              "      <th></th>\n",
              "      <th></th>\n",
              "      <th></th>\n",
              "      <th></th>\n",
              "      <th></th>\n",
              "    </tr>\n",
              "  </thead>\n",
              "  <tbody>\n",
              "    <tr>\n",
              "      <th>Audi</th>\n",
              "      <td>73</td>\n",
              "      <td>18</td>\n",
              "      <td>31</td>\n",
              "      <td>195</td>\n",
              "      <td>102</td>\n",
              "      <td>1</td>\n",
              "    </tr>\n",
              "    <tr>\n",
              "      <th>BMW</th>\n",
              "      <td>173</td>\n",
              "      <td>11</td>\n",
              "      <td>54</td>\n",
              "      <td>361</td>\n",
              "      <td>41</td>\n",
              "      <td>0</td>\n",
              "    </tr>\n",
              "    <tr>\n",
              "      <th>Mercedes-Benz</th>\n",
              "      <td>140</td>\n",
              "      <td>17</td>\n",
              "      <td>127</td>\n",
              "      <td>356</td>\n",
              "      <td>19</td>\n",
              "      <td>164</td>\n",
              "    </tr>\n",
              "    <tr>\n",
              "      <th>Mitsubishi</th>\n",
              "      <td>131</td>\n",
              "      <td>18</td>\n",
              "      <td>23</td>\n",
              "      <td>121</td>\n",
              "      <td>8</td>\n",
              "      <td>6</td>\n",
              "    </tr>\n",
              "    <tr>\n",
              "      <th>Renault</th>\n",
              "      <td>19</td>\n",
              "      <td>40</td>\n",
              "      <td>32</td>\n",
              "      <td>57</td>\n",
              "      <td>105</td>\n",
              "      <td>192</td>\n",
              "    </tr>\n",
              "    <tr>\n",
              "      <th>Toyota</th>\n",
              "      <td>207</td>\n",
              "      <td>56</td>\n",
              "      <td>37</td>\n",
              "      <td>190</td>\n",
              "      <td>12</td>\n",
              "      <td>8</td>\n",
              "    </tr>\n",
              "    <tr>\n",
              "      <th>Volkswagen</th>\n",
              "      <td>81</td>\n",
              "      <td>108</td>\n",
              "      <td>90</td>\n",
              "      <td>254</td>\n",
              "      <td>92</td>\n",
              "      <td>255</td>\n",
              "    </tr>\n",
              "  </tbody>\n",
              "</table>\n",
              "</div>\n",
              "      <button class=\"colab-df-convert\" onclick=\"convertToInteractive('df-a4c4c3cf-0cb1-4a1a-acf3-e003b4b405a6')\"\n",
              "              title=\"Convert this dataframe to an interactive table.\"\n",
              "              style=\"display:none;\">\n",
              "        \n",
              "  <svg xmlns=\"http://www.w3.org/2000/svg\" height=\"24px\"viewBox=\"0 0 24 24\"\n",
              "       width=\"24px\">\n",
              "    <path d=\"M0 0h24v24H0V0z\" fill=\"none\"/>\n",
              "    <path d=\"M18.56 5.44l.94 2.06.94-2.06 2.06-.94-2.06-.94-.94-2.06-.94 2.06-2.06.94zm-11 1L8.5 8.5l.94-2.06 2.06-.94-2.06-.94L8.5 2.5l-.94 2.06-2.06.94zm10 10l.94 2.06.94-2.06 2.06-.94-2.06-.94-.94-2.06-.94 2.06-2.06.94z\"/><path d=\"M17.41 7.96l-1.37-1.37c-.4-.4-.92-.59-1.43-.59-.52 0-1.04.2-1.43.59L10.3 9.45l-7.72 7.72c-.78.78-.78 2.05 0 2.83L4 21.41c.39.39.9.59 1.41.59.51 0 1.02-.2 1.41-.59l7.78-7.78 2.81-2.81c.8-.78.8-2.07 0-2.86zM5.41 20L4 18.59l7.72-7.72 1.47 1.35L5.41 20z\"/>\n",
              "  </svg>\n",
              "      </button>\n",
              "      \n",
              "  <style>\n",
              "    .colab-df-container {\n",
              "      display:flex;\n",
              "      flex-wrap:wrap;\n",
              "      gap: 12px;\n",
              "    }\n",
              "\n",
              "    .colab-df-convert {\n",
              "      background-color: #E8F0FE;\n",
              "      border: none;\n",
              "      border-radius: 50%;\n",
              "      cursor: pointer;\n",
              "      display: none;\n",
              "      fill: #1967D2;\n",
              "      height: 32px;\n",
              "      padding: 0 0 0 0;\n",
              "      width: 32px;\n",
              "    }\n",
              "\n",
              "    .colab-df-convert:hover {\n",
              "      background-color: #E2EBFA;\n",
              "      box-shadow: 0px 1px 2px rgba(60, 64, 67, 0.3), 0px 1px 3px 1px rgba(60, 64, 67, 0.15);\n",
              "      fill: #174EA6;\n",
              "    }\n",
              "\n",
              "    [theme=dark] .colab-df-convert {\n",
              "      background-color: #3B4455;\n",
              "      fill: #D2E3FC;\n",
              "    }\n",
              "\n",
              "    [theme=dark] .colab-df-convert:hover {\n",
              "      background-color: #434B5C;\n",
              "      box-shadow: 0px 1px 3px 1px rgba(0, 0, 0, 0.15);\n",
              "      filter: drop-shadow(0px 1px 2px rgba(0, 0, 0, 0.3));\n",
              "      fill: #FFFFFF;\n",
              "    }\n",
              "  </style>\n",
              "\n",
              "      <script>\n",
              "        const buttonEl =\n",
              "          document.querySelector('#df-a4c4c3cf-0cb1-4a1a-acf3-e003b4b405a6 button.colab-df-convert');\n",
              "        buttonEl.style.display =\n",
              "          google.colab.kernel.accessAllowed ? 'block' : 'none';\n",
              "\n",
              "        async function convertToInteractive(key) {\n",
              "          const element = document.querySelector('#df-a4c4c3cf-0cb1-4a1a-acf3-e003b4b405a6');\n",
              "          const dataTable =\n",
              "            await google.colab.kernel.invokeFunction('convertToInteractive',\n",
              "                                                     [key], {});\n",
              "          if (!dataTable) return;\n",
              "\n",
              "          const docLinkHtml = 'Like what you see? Visit the ' +\n",
              "            '<a target=\"_blank\" href=https://colab.research.google.com/notebooks/data_table.ipynb>data table notebook</a>'\n",
              "            + ' to learn more about interactive tables.';\n",
              "          element.innerHTML = '';\n",
              "          dataTable['output_type'] = 'display_data';\n",
              "          await google.colab.output.renderOutput(dataTable, element);\n",
              "          const docLink = document.createElement('div');\n",
              "          docLink.innerHTML = docLinkHtml;\n",
              "          element.appendChild(docLink);\n",
              "        }\n",
              "      </script>\n",
              "    </div>\n",
              "  </div>\n",
              "  "
            ]
          },
          "metadata": {},
          "execution_count": 15
        }
      ],
      "source": [
        "df_cross_tab = pd. crosstab(car_new['Brand'], car_new['Body'])\n",
        "df_cross_tab"
      ]
    },
    {
      "cell_type": "code",
      "execution_count": 16,
      "id": "c7af37a6",
      "metadata": {
        "colab": {
          "base_uri": "https://localhost:8080/"
        },
        "id": "c7af37a6",
        "outputId": "4674d698-73e9-4950-cc28-d7831fdfcebf"
      },
      "outputs": [
        {
          "output_type": "stream",
          "name": "stdout",
          "text": [
            "p value is 0.0\n",
            "Dependent (reject H0)\n"
          ]
        }
      ],
      "source": [
        "from scipy.stats import chi2_contingency\n",
        "  \n",
        "# defining the table\n",
        "data = [[77,191,168,137,19,223,86] ,[19,12,23,19,41,59,112],[35,60,141,26,35,37,99],[217,389,385,129,59,201,269],[108,42,22,8,112,13,97],[1,0,182,8,203,8,273]]\n",
        "stat, p, dof, expected = chi2_contingency(data)\n",
        "  \n",
        "# interpret p-value\n",
        "alpha = 0.05\n",
        "print(\"p value is \" + str(p))\n",
        "if p <= alpha:\n",
        "    print('Dependent (reject H0)')\n",
        "else:\n",
        "    print('Independent (H0 holds true)')\n",
        "    \n",
        "#     p value is 0.0\n",
        "# Dependent (reject H0)\n",
        "# The above test implies that Brand and Body are dependent"
      ]
    },
    {
      "cell_type": "markdown",
      "id": "cdff0764",
      "metadata": {
        "id": "cdff0764"
      },
      "source": [
        "The above test implies that Brand and Body are dependent"
      ]
    }
  ],
  "metadata": {
    "kernelspec": {
      "display_name": "Python 3 (ipykernel)",
      "language": "python",
      "name": "python3"
    },
    "language_info": {
      "codemirror_mode": {
        "name": "ipython",
        "version": 3
      },
      "file_extension": ".py",
      "mimetype": "text/x-python",
      "name": "python",
      "nbconvert_exporter": "python",
      "pygments_lexer": "ipython3",
      "version": "3.9.12"
    },
    "colab": {
      "provenance": []
    }
  },
  "nbformat": 4,
  "nbformat_minor": 5
}